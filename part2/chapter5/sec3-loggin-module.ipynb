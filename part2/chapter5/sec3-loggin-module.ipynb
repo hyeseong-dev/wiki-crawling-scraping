{
 "cells": [
  {
   "cell_type": "code",
   "execution_count": 1,
   "metadata": {},
   "outputs": [
    {
     "name": "stderr",
     "output_type": "stream",
     "text": [
      "[INFO] 2020-11-03 13:43:20,798 __main__ <ipython-input-1-9c5e10b0874f>:36 크롤링을 시작했습니다.\n",
      "[WARNING] 2020-11-03 13:43:20,798 __main__ <ipython-input-1-9c5e10b0874f>:37 외부 사이트 링크는 크롤링하지 않습니다.\n",
      "[ERROR] 2020-11-03 13:43:20,800 __main__ <ipython-input-1-9c5e10b0874f>:38 페이지를 찾을 수 없습니다.\n",
      "[ERROR] 2020-11-03 13:43:20,801 __main__ <ipython-input-1-9c5e10b0874f>:43 요청 중에 예외가 발생했습니다: MissingSchema(\"Invalid URL '#invalid_url': No schema supplied. Perhaps you meant http://#invalid_url?\")\n",
      "Traceback (most recent call last):\n",
      "  File \"<ipython-input-1-9c5e10b0874f>\", line 41, in logging_example\n",
      "    r = requests.get('#invalid_url', timeout=1)\n",
      "  File \"c:\\Users\\EDU\\project\\venv\\lib\\site-packages\\requests\\api.py\", line 76, in get\n",
      "    return request('get', url, params=params, **kwargs)\n",
      "  File \"c:\\Users\\EDU\\project\\venv\\lib\\site-packages\\requests\\api.py\", line 61, in request\n",
      "    return session.request(method=method, url=url, **kwargs)\n",
      "  File \"c:\\Users\\EDU\\project\\venv\\lib\\site-packages\\requests\\sessions.py\", line 516, in request\n",
      "    prep = self.prepare_request(req)\n",
      "  File \"c:\\Users\\EDU\\project\\venv\\lib\\site-packages\\requests\\sessions.py\", line 449, in prepare_request\n",
      "    p.prepare(\n",
      "  File \"c:\\Users\\EDU\\project\\venv\\lib\\site-packages\\requests\\models.py\", line 314, in prepare\n",
      "    self.prepare_url(url, params)\n",
      "  File \"c:\\Users\\EDU\\project\\venv\\lib\\site-packages\\requests\\models.py\", line 388, in prepare_url\n",
      "    raise MissingSchema(error)\n",
      "requests.exceptions.MissingSchema: Invalid URL '#invalid_url': No schema supplied. Perhaps you meant http://#invalid_url?\n"
     ]
    }
   ],
   "source": [
    "from logging import (\n",
    "    getLogger,\n",
    "    Formatter,\n",
    "    FileHandler,\n",
    "    StreamHandler,\n",
    "    DEBUG,\n",
    "    ERROR,\n",
    ")\n",
    "import requests\n",
    "\n",
    "# 로거 : __name__에는 실행 모듈 이름 logging_sample이 들어감(file name)\n",
    "logger = getLogger(__name__)\n",
    "\n",
    "# 출력형식\n",
    "default_format = '[%(levelname)s] %(asctime)s %(name)s %(filename)s:%(lineno)d %(message)s'\n",
    "default_formatter = Formatter(default_format)\n",
    "funcname_formatter = Formatter(default_format +' (%(funcName)s)')\n",
    "\n",
    "# 로그 전용 핸들러: 콘솔 출력 전용\n",
    "log_stream_handler = StreamHandler()\n",
    "log_stream_handler.setFormatter(default_formatter)\n",
    "log_stream_handler.setLevel(DEBUG)\n",
    "\n",
    "# 로그 전용 핸들러: 파일 출력 전용\n",
    "log_file_handler = FileHandler(filename='crawler.log',encoding='utf-8')\n",
    "log_file_handler.setFormatter(funcname_formatter)\n",
    "log_file_handler.setLevel(ERROR)\n",
    "\n",
    "# 로거에 핸들러와 레벨 설정하기\n",
    "logger.setLevel(DEBUG)\n",
    "logger.addHandler(log_stream_handler)\n",
    "logger.addHandler(log_file_handler)\n",
    "\n",
    "\n",
    "def logging_example():\n",
    "    logger.info('크롤링을 시작했습니다.') # info 레벨로 메시지 출력\n",
    "    logger.warning('외부 사이트 링크는 크롤링하지 않습니다.') # warning 레벨로 메시지 출력하기\n",
    "    logger.error('페이지를 찾을 수 없습니다.') # error레벨로 메시지 출력하기\n",
    "    \n",
    "    try:\n",
    "        r = requests.get('#invalid_url', timeout=1)\n",
    "    except requests.exceptions.RequestException as e:\n",
    "        logger.exception('요청 중에 예외가 발생했습니다: %r',e)  # 예외의 스특트레이스 출력\n",
    "\n",
    "\n",
    "if __name__ == '__main__':\n",
    "    logging_example()\n",
    "\n",
    "\n",
    "\n",
    "\n"
   ]
  },
  {
   "cell_type": "code",
   "execution_count": null,
   "metadata": {},
   "outputs": [],
   "source": []
  },
  {
   "cell_type": "markdown",
   "metadata": {},
   "source": [
    "# 딕셔너리 형식으로 설정 작성\n",
    "color 라이브러리를 사용해 로그에 색을 넣었습니다. 따라서 colorlog 라이브러리를 설치해야합니다."
   ]
  },
  {
   "cell_type": "code",
   "execution_count": 56,
   "metadata": {},
   "outputs": [
    {
     "name": "stdout",
     "output_type": "stream",
     "text": [
      "Collecting colorlog\n",
      "  Downloading colorlog-4.4.0-py2.py3-none-any.whl (14 kB)\n",
      "Requirement already satisfied: colorama; sys_platform == \"win32\" in c:\\users\\edu\\project\\venv\\lib\\site-packages (from colorlog) (0.4.4)\n",
      "Installing collected packages: colorlog\n",
      "Successfully installed colorlog-4.4.0\n"
     ]
    }
   ],
   "source": [
    "!pip install colorlog"
   ]
  },
  {
   "cell_type": "code",
   "execution_count": null,
   "metadata": {},
   "outputs": [],
   "source": [
    "import os\n",
    "\n",
    "BASE_DIR = os.path.realpath(os.path.dirname(__file__))\n",
    "LOG_DIR = os.path.join(BASE_DIR, 'logs') # 로그파일 디렉터리 \n",
    "\n",
    "# 로그 파일 디렉터리가 없다면 생성\n",
    "if not os.path.exists(LOG_DIR):\n",
    "    os.mkdir(LOG_DIR)\n",
    "\n",
    "LOGGING_CONF = {\n",
    "    'version': 1, # 필수\n",
    "    # logger 설정 처리가 중복되면 덮어씌우기\n",
    "    'disable_existing_loggers': True,\n",
    "    # 출력 형식 설정\n",
    "    'formatters': {\n",
    "        'default':{ # 디폴트 형식\n",
    "            '()': 'colorlog.ColoredFormatter', #colorlog 라이브러리 적용\n",
    "            'format': '\\t'.join([\n",
    "                '%(log_color)s[%(levelname)s)]', # 로그 레벨\n",
    "                'asctime:%(asctime)s', #로그 출력 날짜\n",
    "                'process:%(process)d', # 로그 출력을 실행한 프로세스 이름\n",
    "                'thread:%(thread)d', # 로그 출력을 실행한 프로세스 ID\n",
    "                'module:%(module)s', # 로그 출력을 실행한 프로세스 module name\n",
    "                '%(pathname)s[%(lineno)d)]', # 로그 출력을 실행한 모듈의 경로와 줄 번호\n",
    "                'message:%(message)s', # 로그 출력 할 메시지\n",
    "            ]),\n",
    "            'datefmt': '%Y-%m-%d %H:%M:%:%S', # asctime으로 출력할 로그 출력 날짜 형식\n",
    "            # 로그 레벨에 따라 색 적용하기\n",
    "            'log_colors':{\n",
    "                'DEBUG':'bold_black',\n",
    "                'INFO':'white',\n",
    "                'WARNING':'yellow',\n",
    "                'ERROR':'red',\n",
    "                'CRITICAL':'bold_red',\n",
    "            },\n",
    "        },\n",
    "        'simple':\n",
    "    }\n",
    "    \n",
    "} "
   ]
  },
  {
   "cell_type": "code",
   "execution_count": null,
   "metadata": {},
   "outputs": [],
   "source": []
  },
  {
   "cell_type": "code",
   "execution_count": null,
   "metadata": {},
   "outputs": [],
   "source": []
  },
  {
   "cell_type": "code",
   "execution_count": null,
   "metadata": {},
   "outputs": [],
   "source": []
  },
  {
   "cell_type": "code",
   "execution_count": null,
   "metadata": {},
   "outputs": [],
   "source": []
  },
  {
   "cell_type": "code",
   "execution_count": null,
   "metadata": {},
   "outputs": [],
   "source": []
  },
  {
   "cell_type": "code",
   "execution_count": null,
   "metadata": {},
   "outputs": [],
   "source": []
  },
  {
   "cell_type": "code",
   "execution_count": 55,
   "metadata": {},
   "outputs": [
    {
     "data": {
      "text/plain": [
       "array([10, 20,  9,  6])"
      ]
     },
     "execution_count": 55,
     "metadata": {},
     "output_type": "execute_result"
    }
   ],
   "source": [
    "a = np.array([10,3,4,5,20,9,4,5,2,5,6])\n",
    "b = [j for j in np.array([10,3,4,5,20,9,4,5,2,5,6]) if j<5]\n",
    "c = np.array(b)\n",
    "\n",
    "d= a[ a>5 | (a<2)]\n",
    "d"
   ]
  },
  {
   "cell_type": "code",
   "execution_count": 53,
   "metadata": {},
   "outputs": [
    {
     "data": {
      "text/plain": [
       "[3, 4, 4, 2]"
      ]
     },
     "execution_count": 53,
     "metadata": {},
     "output_type": "execute_result"
    }
   ],
   "source": []
  },
  {
   "cell_type": "code",
   "execution_count": null,
   "metadata": {},
   "outputs": [],
   "source": []
  }
 ],
 "metadata": {
  "kernelspec": {
   "display_name": "Python 3",
   "language": "python",
   "name": "python3"
  },
  "language_info": {
   "codemirror_mode": {
    "name": "ipython",
    "version": 3
   },
   "file_extension": ".py",
   "mimetype": "text/x-python",
   "name": "python",
   "nbconvert_exporter": "python",
   "pygments_lexer": "ipython3",
   "version": "3.8.3"
  }
 },
 "nbformat": 4,
 "nbformat_minor": 4
}
