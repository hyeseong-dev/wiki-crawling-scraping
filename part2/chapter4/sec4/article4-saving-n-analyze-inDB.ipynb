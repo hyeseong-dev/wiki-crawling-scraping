{
 "cells": [
  {
   "cell_type": "markdown",
   "metadata": {},
   "source": [
    "## mysqlclient 설치"
   ]
  },
  {
   "cell_type": "code",
   "execution_count": 1,
   "metadata": {},
   "outputs": [
    {
     "name": "stdout",
     "output_type": "stream",
     "text": [
      "Collecting mysqlclient\n",
      "  Downloading mysqlclient-2.0.1-cp38-cp38-win_amd64.whl (269 kB)\n",
      "Installing collected packages: mysqlclient\n",
      "Successfully installed mysqlclient-2.0.1\n"
     ]
    }
   ],
   "source": [
    "!pip install mysqlclient"
   ]
  },
  {
   "cell_type": "markdown",
   "metadata": {},
   "source": [
    "mysqlclient를 설치했으므로 파이썬을 사용해서 데이터베이스에 접속해봅니다. MySQLdb를 import하고, create 함수의 매개 변수에 다음과 같은 것들을 지정해서 호출하면 데이터베이스에 접속됩니다. \n",
    "\n",
    "- 사용자 이름\n",
    "- 비밀번호\n",
    "- 호스트(localhost라면 생략 가능)\n",
    "- 데이터베이스 이름\n",
    "- 문자코드(생략하면 디폴트 문자 코드가 자동으로 지정됩니다.)\n"
   ]
  },
  {
   "cell_type": "code",
   "execution_count": 8,
   "metadata": {},
   "outputs": [],
   "source": [
    "## 데이터베이스에 접속해서 SQL 실행하기\n",
    "\n",
    "import MySQLdb\n",
    "\n",
    "connection = MySQLdb.connect(\n",
    "                            user='scrapingman',\n",
    "                            passwd='myPassword-1',\n",
    "                            host='localhost',\n",
    "                            db='scrapingdata',\n",
    "                            charset='utf8')"
   ]
  },
  {
   "cell_type": "code",
   "execution_count": 9,
   "metadata": {},
   "outputs": [
    {
     "data": {
      "text/plain": [
       "MySQLdb.connections.Connection"
      ]
     },
     "execution_count": 9,
     "metadata": {},
     "output_type": "execute_result"
    }
   ],
   "source": [
    "# connect 함수의 반환값은 Connection 클래스입니다.\n",
    "type(connection)"
   ]
  },
  {
   "cell_type": "code",
   "execution_count": 10,
   "metadata": {},
   "outputs": [
    {
     "data": {
      "text/plain": [
       "MySQLdb.cursors.Cursor"
      ]
     },
     "execution_count": 10,
     "metadata": {},
     "output_type": "execute_result"
    }
   ],
   "source": [
    "# Connection 클래스의 cursor 메서드를 호출하면 커서를 추출할 수 있습니다.\n",
    "cursor = connection.cursor()\n",
    "type(cursor)"
   ]
  },
  {
   "cell_type": "markdown",
   "metadata": {},
   "source": [
    "## 테이블 만들기\n",
    "\n",
    "Cursor 클래스의 execute 메서드로 SQL을 실행합니다. "
   ]
  },
  {
   "cell_type": "code",
   "execution_count": 11,
   "metadata": {},
   "outputs": [
    {
     "data": {
      "text/plain": [
       "0"
      ]
     },
     "execution_count": 11,
     "metadata": {},
     "output_type": "execute_result"
    }
   ],
   "source": [
    "cursor.execute('create table books (title text, url text)')"
   ]
  },
  {
   "cell_type": "code",
   "execution_count": 12,
   "metadata": {},
   "outputs": [],
   "source": [
    "connection.commit()"
   ]
  },
  {
   "cell_type": "code",
   "execution_count": null,
   "metadata": {},
   "outputs": [],
   "source": []
  },
  {
   "cell_type": "markdown",
   "metadata": {},
   "source": [
    "```\n",
    "mysql> show tables from scrapingdata;\n",
    "+------------------------+\n",
    "| Tables_in_scrapingdata |\n",
    "+------------------------+\n",
    "| books                  |\n",
    "+------------------------+\n",
    "1 row in set (0.05 sec)\n",
    "```"
   ]
  },
  {
   "cell_type": "markdown",
   "metadata": {},
   "source": [
    "```\n",
    "mysql> show columns from books from scrapingdata;\n",
    "+-------+------+------+-----+---------+-------+\n",
    "| Field | Type | Null | Key | Default | Extra |\n",
    "+-------+------+------+-----+---------+-------+\n",
    "| title | text | YES  |     | NULL    |       |\n",
    "| url   | text | YES  |     | NULL    |       |\n",
    "+-------+------+------+-----+---------+-------+\n",
    "2 rows in set (0.01 sec)\n",
    "```"
   ]
  },
  {
   "cell_type": "markdown",
   "metadata": {},
   "source": [
    "파이썬에서 데이터베이스에 접속합니다. 레코드를 추가할 떄는 Cursor 클래스의 execute 메서드를 사용합니다.    \n",
    "Cursor클래스의 execute 메서드는 다음 코드처럼 두 번째 매개 변수를 지정할 수 있습니다."
   ]
  },
  {
   "cell_type": "code",
   "execution_count": 16,
   "metadata": {},
   "outputs": [],
   "source": [
    "import MySQLdb\n",
    "\n",
    "connection = MySQLdb.connect(\n",
    "                            user='scrapingman',\n",
    "                            passwd='myPassword-1',\n",
    "                            host='localhost',\n",
    "                            db='scrapingdata',\n",
    "                            charset='utf8')\n",
    "\n",
    "cursor = connection.cursor()\n",
    "\n",
    "# 실행할 때마다 다른 결과가 나오지 않게 테이블을 제거해두기\n",
    "cursor.execute('drop table if exists books')\n",
    "\n",
    "cursor.execute('create table books (title text, url text)')\n",
    "connection.commit()\n",
    "cursor.execute('insert into books values(%s, %s)', ('처음 시작하는 파이썬 프로그래밍', 'http://example.com'))\n",
    "connection.commit()\n",
    "\n",
    "# 연결 종료하기\n",
    "connection.close()"
   ]
  },
  {
   "cell_type": "code",
   "execution_count": 14,
   "metadata": {},
   "outputs": [
    {
     "data": {
      "text/plain": [
       "1"
      ]
     },
     "execution_count": 14,
     "metadata": {},
     "output_type": "execute_result"
    }
   ],
   "source": []
  },
  {
   "cell_type": "markdown",
   "metadata": {},
   "source": [
    "# 분석 결과 저장하기"
   ]
  },
  {
   "cell_type": "code",
   "execution_count": 18,
   "metadata": {},
   "outputs": [
    {
     "name": "stdout",
     "output_type": "stream",
     "text": [
      "rss20\n",
      "분야별 신간 특선 - 컴퓨터/모바일\n"
     ]
    }
   ],
   "source": [
    "import feedparser\n",
    "import MySQLdb\n",
    "\n",
    "# 데이터베이스에 연결\n",
    "connection = MySQLdb.connect(\n",
    "                            user='scrapingman',\n",
    "                            passwd='myPassword-1',\n",
    "                            host='localhost',\n",
    "                            db='scrapingdata',\n",
    "                            charset='utf8')\n",
    "\n",
    "# 커서 생성 \n",
    "cursor = connection.cursor()\n",
    "\n",
    "# 실행할 떄마다 같은 레코드가 중복되어 들어가지 않게 테이블을 제거해두기\n",
    "cursor.execute('drop table if exists books')\n",
    "\n",
    "# 테이블 생성하기\n",
    "cursor.execute('create table books (title text, url text)')\n",
    "\n",
    "# url을 지정해서 FeedParserDict 객체 생성하기\n",
    "rss = feedparser.parse('http://www.aladin.co.kr/rss/special_new/351')\n",
    "\n",
    "# rss version check\n",
    "print(rss.version)\n",
    "\n",
    "# 피드의 제목\n",
    "print(rss.get('feed').get('title'))\n",
    "\n",
    "# 반복 적용\n",
    "for content in rss.get('entries'):\n",
    "    #데이터 저장하기\n",
    "    cursor.execute('insert into books values(%s, %s)', (content.get('title'), content.get('link')))\n",
    "\n",
    "# 커밋하기\n",
    "connection.commit()\n",
    "\n",
    "# 연결 종료하기\n",
    "connection.close()\n",
    "\n"
   ]
  },
  {
   "cell_type": "markdown",
   "metadata": {},
   "source": [
    "```\n",
    "mysql> select * from books;\n",
    "+--------------------------------------------------------------------------------------------------+--------------------------------------------------------------------------------+\n",
    "| title                                                                                            | url                                                                            |\n",
    "+--------------------------------------------------------------------------------------------------+--------------------------------------------------------------------------------+\n",
    "| 코딩을 몰라도 아무나 웹사이트 가이드편/조안 지음/F&A                                             | http://www.aladin.co.kr/rsscenter/go.aspx?rssType=1&type=item&itemId=253989653 |\n",
    "| 아무나 웹사이트 회사일반 편/조안 지음/F&A                                                        | http://www.aladin.co.kr/rsscenter/go.aspx?rssType=1&type=item&itemId=253989630 |\n",
    "| 아무나 웹사이트 이커머스 편/조안 지음/F&A                                                        | http://www.aladin.co.kr/rsscenter/go.aspx?rssType=1&type=item&itemId=253989610 |\n",
    "| 아무나 웹사이트 오픈몰편/조안 지음/F&A                                                           | http://www.aladin.co.kr/rsscenter/go.aspx?rssType=1&type=item&itemId=253989451 |\n",
    "| MagicMirror HowTo(흑백)/소혜민 지음/부크크(bookk)                                                | http://www.aladin.co.kr/rsscenter/go.aspx?rssType=1&type=item&itemId=253719046 |\n",
    "| MagicMirror HowTo(컬러)/소혜민 지음/부크크(bookk)                                                | http://www.aladin.co.kr/rsscenter/go.aspx?rssType=1&type=item&itemId=253718914 |\n",
    "| 시작해 C 언어 핵심기초 (스터디북)/박영진 지음/부크크(bookk)                                      | http://www.aladin.co.kr/rsscenter/go.aspx?rssType=1&type=item&itemId=253718005 |\n",
    "| 따라하며 배우는 AWS 네트워크 입문/김원일.서종호 지음/부크크(bookk)                               | http://www.aladin.co.kr/rsscenter/go.aspx?rssType=1&type=item&itemId=253645476 |\n",
    "| 사전처럼 쏙쏙 뽑아 쓰는 엑셀 함수 85선 & 엑셀 분석 작업의 모든 것/김은희 지음/부크크(bookk)      | http://www.aladin.co.kr/rsscenter/go.aspx?rssType=1&type=item&itemId=251848878 |\n",
    "| 소프트웨어 공학/조민호 지음/인피니티북스                                                         | http://www.aladin.co.kr/rsscenter/go.aspx?rssType=1&type=item&itemId=250625329 |\n",
    "| 하루에 쪼갠다 파이썬/코딩 코치스 지음/부크크(bookk)                                              | http://www.aladin.co.kr/rsscenter/go.aspx?rssType=1&type=item&itemId=250624769 |\n",
    "| 알면 편리한 워드프로세서 파워 업/박미현.박성호 지음/부산대학교출판문화원                         | http://www.aladin.co.kr/rsscenter/go.aspx?rssType=1&type=item&itemId=250552773 |\n",
    "| 하루에 쪼갠다 C++ 알고리즘/박영진 지음/부크크(bookk)                                             | http://www.aladin.co.kr/rsscenter/go.aspx?rssType=1&type=item&itemId=250458870 |\n",
    "| NX(UG) CAD/CAM 5축 가공기술/윤일우.황종대 지음/광문각                                            | http://www.aladin.co.kr/rsscenter/go.aspx?rssType=1&type=item&itemId=250221431 |\n",
    "| 데이터분석을 위한 기계학습/올리버 테오발드 지음, 하성호 옮김/청람                                | http://www.aladin.co.kr/rsscenter/go.aspx?rssType=1&type=item&itemId=250187152 |\n",
    "| 한글 SPSS 통계자료분석/이기성.한성실.정기문 지음/자유아카데미                                    | http://www.aladin.co.kr/rsscenter/go.aspx?rssType=1&type=item&itemId=250110224 |\n",
    "| 예제로 쉽게 배우는 파이썬 프로그래밍/김상근 지음/다올미디어                                      | http://www.aladin.co.kr/rsscenter/go.aspx?rssType=1&type=item&itemId=250043106 |\n",
    "| 전자상거래관리사 2급 실기/신미영 지음/디지털북스(아이생각)                                       | http://www.aladin.co.kr/rsscenter/go.aspx?rssType=1&type=item&itemId=249313598 |\n",
    "| 따라 하면서 배우는 사물인터넷/양재삼 지음/한빛아카데미(교재)                                     | http://www.aladin.co.kr/rsscenter/go.aspx?rssType=1&type=item&itemId=246889810 |\n",
    "| 3D 프린팅 모델링 자격 2급 필기.실기 한 권에 끝내기/김보영 지음/원교재사                          | http://www.aladin.co.kr/rsscenter/go.aspx?rssType=1&type=item&itemId=246550812 |\n",
    "| 스스로 ISMS-P 수험서/유영일 외 지음/부크크(bookk)                                                | http://www.aladin.co.kr/rsscenter/go.aspx?rssType=1&type=item&itemId=246519075 |\n",
    "| ISMS-P 인증 한권으로 마스터하기/권성호 지음/부크크(bookk)                                        | http://www.aladin.co.kr/rsscenter/go.aspx?rssType=1&type=item&itemId=246280483 |\n",
    "| 국/가/공/인 산업보안관리사 한권으로 끝내기/최상용.조석상 지음/시대고시기획                       | http://www.aladin.co.kr/rsscenter/go.aspx?rssType=1&type=item&itemId=244929058 |\n",
    "| 3D 프린팅 모델링 자격 1급 필기.실기 한 권에 끝내기/김주화 지음/원교재사                          | http://www.aladin.co.kr/rsscenter/go.aspx?rssType=1&type=item&itemId=244891216 |\n",
    "| 3D프린터운용기능사 실기 30시간 완성 《인벤터편, 컬러본》/신동진.조예찬.김경미 지음/부크크(bookk) | http://www.aladin.co.kr/rsscenter/go.aspx?rssType=1&type=item&itemId=244280996 |\n",
    "+--------------------------------------------------------------------------------------------------+--------------------------------------------------------------------------------+\n",
    "25 rows in set (0.00 sec)\n",
    "```"
   ]
  }
 ],
 "metadata": {
  "kernelspec": {
   "display_name": "Python 3",
   "language": "python",
   "name": "python3"
  },
  "language_info": {
   "codemirror_mode": {
    "name": "ipython",
    "version": 3
   },
   "file_extension": ".py",
   "mimetype": "text/x-python",
   "name": "python",
   "nbconvert_exporter": "python",
   "pygments_lexer": "ipython3",
   "version": "3.8.6rc1"
  }
 },
 "nbformat": 4,
 "nbformat_minor": 4
}
