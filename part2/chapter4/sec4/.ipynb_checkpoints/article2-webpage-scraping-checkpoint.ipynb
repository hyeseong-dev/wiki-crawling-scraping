{
 "cells": [
  {
   "cell_type": "code",
   "execution_count": 18,
   "metadata": {},
   "outputs": [],
   "source": [
    "import requests\n",
    "import lxml.html"
   ]
  },
  {
   "cell_type": "code",
   "execution_count": 19,
   "metadata": {},
   "outputs": [
    {
     "name": "stdout",
     "output_type": "stream",
     "text": [
      "<class 'requests.models.Response'>\n",
      "<class 'str'>\n",
      "<class 'lxml.html.HtmlElement'>\n",
      "<class 'list'>\n"
     ]
    },
    {
     "data": {
      "text/plain": [
       "'파이썬을 이용한 웹 크롤링과 스크레이핑'"
      ]
     },
     "execution_count": 19,
     "metadata": {},
     "output_type": "execute_result"
    }
   ],
   "source": [
    "r = requests.get(\"http://wikibook.co.kr/python-for-web-scraping/\") # response 객체로 리턴합니다.\n",
    "print(type(r)) \n",
    "html = r.text   \n",
    "print(type(html))\n",
    " \n",
    "root = lxml.html.fromstring(html) # fromstring\n",
    "print(type(root))\n",
    "titleElement = root.xpath('//*[@id=\"content\"]/div[1]/div[2]/h1')\n",
    "print(type(titleElement))\n",
    "titleElement[0].text\n"
   ]
  },
  {
   "cell_type": "code",
   "execution_count": 42,
   "metadata": {},
   "outputs": [
    {
     "name": "stdout",
     "output_type": "stream",
     "text": [
      "http://www.yes24.com/24/goods/59307498\n",
      "http://www.kyobobook.co.kr/product/detailViewKor.laf?barcode=9791158390952\n",
      "http://book.interpark.com/product/BookDisplay.do?_method=detail&sc.prdNo=281415537\n",
      "http://www.aladin.co.kr/shop/wproduct.aspx?ItemId=137872443\n"
     ]
    }
   ],
   "source": [
    "import cssselect\n",
    "linkAs = root.cssselect('#book-stores > li > a')\n",
    "\n",
    "\n",
    "\n",
    "for linkA in linkAs:\n",
    "    print(linkA.get('href'))"
   ]
  },
  {
   "cell_type": "code",
   "execution_count": 13,
   "metadata": {},
   "outputs": [
    {
     "name": "stdout",
     "output_type": "stream",
     "text": [
      "Package             Version\n",
      "------------------- ---------\n",
      "argon2-cffi         20.1.0\n",
      "async-generator     1.10\n",
      "attrs               20.2.0\n",
      "backcall            0.2.0\n",
      "beautifulsoup4      4.9.3\n",
      "bleach              3.2.1\n",
      "certifi             2020.6.20\n",
      "cffi                1.14.3\n",
      "chardet             3.0.4\n",
      "colorama            0.4.4\n",
      "decorator           4.4.2\n",
      "defusedxml          0.6.0\n",
      "entrypoints         0.3\n",
      "et-xmlfile          1.0.1\n",
      "idna                2.10\n",
      "ipykernel           5.3.4\n",
      "ipython             7.18.1\n",
      "ipython-genutils    0.2.0\n",
      "jdcal               1.4.1\n",
      "jedi                0.17.2\n",
      "Jinja2              2.11.2\n",
      "json5               0.9.5\n",
      "jsonschema          3.2.0\n",
      "jupyter-client      6.1.7\n",
      "jupyter-core        4.6.3\n",
      "jupyterlab          2.2.9\n",
      "jupyterlab-pygments 0.1.2\n",
      "jupyterlab-server   1.2.0\n",
      "lxml                4.6.1\n",
      "MarkupSafe          1.1.1\n",
      "mistune             0.8.4\n",
      "nbclient            0.5.1\n",
      "nbconvert           6.0.7\n",
      "nbformat            5.0.8\n",
      "nest-asyncio        1.4.2\n",
      "notebook            6.1.4\n",
      "numpy               1.19.3\n",
      "openpyxl            3.0.5\n",
      "packaging           20.4\n",
      "pandas              1.1.4\n",
      "pandocfilters       1.4.3\n",
      "parso               0.7.1\n",
      "pickleshare         0.7.5\n",
      "pip                 20.2.1\n",
      "prometheus-client   0.8.0\n",
      "prompt-toolkit      3.0.8\n",
      "pycparser           2.20\n",
      "Pygments            2.7.2\n",
      "pyparsing           2.4.7\n",
      "pyrsistent          0.17.3\n",
      "python-dateutil     2.8.1\n",
      "pytz                2020.1\n",
      "pywin32             228\n",
      "Note: you may need to restart the kernel to use updated packages.\n",
      "pywinpty            0.5.7\n",
      "pyzmq               19.0.2\n",
      "requests            2.24.0\n",
      "selenium            3.141.0"
     ]
    },
    {
     "name": "stderr",
     "output_type": "stream",
     "text": [
      "WARNING: You are using pip version 20.2.1; however, version 20.2.4 is available.\n",
      "You should consider upgrading via the 'c:\\users\\osori\\project\\env\\scripts\\python.exe -m pip install --upgrade pip' command.\n"
     ]
    },
    {
     "name": "stdout",
     "output_type": "stream",
     "text": [
      "\n",
      "Send2Trash          1.5.0\n",
      "setuptools          49.2.1\n",
      "six                 1.15.0\n",
      "soupsieve           2.0.1\n",
      "terminado           0.9.1\n",
      "testpath            0.4.4\n",
      "tornado             6.0.4\n",
      "traitlets           5.0.5\n",
      "urllib3             1.25.11\n",
      "wcwidth             0.2.5\n",
      "webencodings        0.5.1\n",
      "xlrd                1.2.0\n",
      "xlwt                1.3.0\n"
     ]
    }
   ],
   "source": []
  }
 ],
 "metadata": {
  "kernelspec": {
   "display_name": "Python 3",
   "language": "python",
   "name": "python3"
  },
  "language_info": {
   "codemirror_mode": {
    "name": "ipython",
    "version": 3
   },
   "file_extension": ".py",
   "mimetype": "text/x-python",
   "name": "python",
   "nbconvert_exporter": "python",
   "pygments_lexer": "ipython3",
   "version": "3.8.6rc1"
  }
 },
 "nbformat": 4,
 "nbformat_minor": 4
}
